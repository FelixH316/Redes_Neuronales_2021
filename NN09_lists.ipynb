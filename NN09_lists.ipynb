{
 "cells": [
  {
   "cell_type": "markdown",
   "id": "453fc637",
   "metadata": {},
   "source": [
    "# 9.1 Python List"
   ]
  },
  {
   "cell_type": "markdown",
   "id": "44ab1341",
   "metadata": {},
   "source": [
    "## List"
   ]
  },
  {
   "cell_type": "code",
   "execution_count": null,
   "id": "e5e8dc26",
   "metadata": {},
   "outputs": [],
   "source": [
    "myList = [\"apple\", \"banana\", \"cherry\"]\n",
    "print(myList)\n",
    "print(type(myList))"
   ]
  },
  {
   "cell_type": "markdown",
   "id": "58854b82",
   "metadata": {},
   "source": [
    "## Duplicates"
   ]
  },
  {
   "cell_type": "code",
   "execution_count": null,
   "id": "3f735b20",
   "metadata": {},
   "outputs": [],
   "source": [
    "myList = [\"apple\", \"banana\", \"cherry\", \"apple\", \"cherry\"]\n",
    "print(myList)"
   ]
  },
  {
   "cell_type": "markdown",
   "id": "8c9d6726",
   "metadata": {},
   "source": [
    "## List Length"
   ]
  },
  {
   "cell_type": "code",
   "execution_count": null,
   "id": "0fdcc944",
   "metadata": {},
   "outputs": [],
   "source": [
    "myList = [\"apple\", \"banana\", \"cherry\", \"apple\", \"cherry\"]\n",
    "print(len(myList))"
   ]
  },
  {
   "cell_type": "markdown",
   "id": "75a8639f",
   "metadata": {},
   "source": [
    "## List Items - Data Types"
   ]
  },
  {
   "cell_type": "code",
   "execution_count": null,
   "id": "e4c9b56a",
   "metadata": {},
   "outputs": [],
   "source": [
    "list1 = [\"apple\", \"banana\", \"cherry\"]\n",
    "list2 = [1, 5, 7, 9, 3]\n",
    "list3 = [True, False, False]"
   ]
  },
  {
   "cell_type": "code",
   "execution_count": null,
   "id": "5ff1cd9f",
   "metadata": {},
   "outputs": [],
   "source": [
    "# Different data types\n",
    "list1 = [\"abc\", 34, True, 40, \"male\", 304.039, 3+1j]\n",
    "print(list1)"
   ]
  },
  {
   "cell_type": "code",
   "execution_count": null,
   "id": "3b7ef032",
   "metadata": {},
   "outputs": [],
   "source": [
    "## The list( ) constructor"
   ]
  },
  {
   "cell_type": "code",
   "execution_count": null,
   "id": "d2baef66",
   "metadata": {},
   "outputs": [],
   "source": [
    "mylist = list((\"apple\", \"banana\", \"cherry\")) # note the double round-brackets\n",
    "print(mylist)"
   ]
  },
  {
   "cell_type": "markdown",
   "id": "07dbea82",
   "metadata": {},
   "source": [
    "# 9.2 Python - Access List Items"
   ]
  },
  {
   "cell_type": "markdown",
   "id": "66d54676",
   "metadata": {},
   "source": [
    "## Access items"
   ]
  },
  {
   "cell_type": "code",
   "execution_count": null,
   "id": "323cd452",
   "metadata": {},
   "outputs": [],
   "source": [
    "myList = [\"apple\", \"banana\", \"cherry\"]\n",
    "str_var = myList[2]\n",
    "print(myList[1])\n",
    "print(str_var)"
   ]
  },
  {
   "cell_type": "markdown",
   "id": "7006314c",
   "metadata": {},
   "source": [
    "## Negative Indexing"
   ]
  },
  {
   "cell_type": "code",
   "execution_count": null,
   "id": "2b904fee",
   "metadata": {},
   "outputs": [],
   "source": [
    "myList = [\"apple\", \"banana\", \"cherry\"]\n",
    "print(myList[-2])"
   ]
  },
  {
   "cell_type": "markdown",
   "id": "dc5cd8e8",
   "metadata": {},
   "source": [
    "## Range of Indexes"
   ]
  },
  {
   "cell_type": "code",
   "execution_count": null,
   "id": "20e57ed1",
   "metadata": {},
   "outputs": [],
   "source": [
    "myList = [\"apple\", \"banana\", \"cherry\", \"orange\", \"kiwi\", \"melon\", \"mango\"]\n",
    "print(myList[2:5])"
   ]
  },
  {
   "cell_type": "code",
   "execution_count": null,
   "id": "9e76ade1",
   "metadata": {},
   "outputs": [],
   "source": [
    "# Leaving out the first index\n",
    "myList = [\"apple\", \"banana\", \"cherry\", \"orange\", \"kiwi\", \"melon\", \"mango\"]\n",
    "print(myList[:4])"
   ]
  },
  {
   "cell_type": "code",
   "execution_count": null,
   "id": "73ba541a",
   "metadata": {},
   "outputs": [],
   "source": [
    "# Leaving out the last index\n",
    "myList = [\"apple\", \"banana\", \"cherry\", \"orange\", \"kiwi\", \"melon\", \"mango\"]\n",
    "print(myList[2:])"
   ]
  },
  {
   "cell_type": "code",
   "execution_count": null,
   "id": "38a65ab2",
   "metadata": {},
   "outputs": [],
   "source": [
    "myList = [\"apple\", \"banana\", \"cherry\", \"orange\", \"kiwi\", \"melon\", \"mango\"]\n",
    "print(myList[-4:-1])"
   ]
  },
  {
   "cell_type": "code",
   "execution_count": null,
   "id": "b75531db",
   "metadata": {},
   "outputs": [],
   "source": [
    "myList = [\"apple\", \"banana\", \"cherry\"]\n",
    "if \"apple\" in myList:\n",
    "    print(\"Yes, 'apple' is in the fruits list\")"
   ]
  },
  {
   "cell_type": "markdown",
   "id": "0d4424b2",
   "metadata": {},
   "source": [
    "# 9.3 Python - Cambiar elementos de una lista"
   ]
  },
  {
   "cell_type": "markdown",
   "id": "b9a33cdd",
   "metadata": {},
   "source": [
    "## Cambiar el valor de un elemento"
   ]
  },
  {
   "cell_type": "code",
   "execution_count": null,
   "id": "e4b4f301",
   "metadata": {},
   "outputs": [],
   "source": [
    "myList = [\"apple\", \"banana\", \"cherry\"]\n",
    "myList[1] = \"blackcurrant\"\n",
    "print(myList)"
   ]
  },
  {
   "cell_type": "markdown",
   "id": "4b0afe0d",
   "metadata": {},
   "source": [
    "## Cambiar el valor de un rango de elementos"
   ]
  },
  {
   "cell_type": "code",
   "execution_count": null,
   "id": "181d7f0b",
   "metadata": {},
   "outputs": [],
   "source": [
    "# Two values replace two index values\n",
    "myList = [\"apple\", \"banana\", \"cherry\", \"orange\", \"kiwi\", \"mango\"]\n",
    "myList[1:3] = [\"blackcurrant\", \"watermelon\"]\n",
    "print(myList)"
   ]
  },
  {
   "cell_type": "code",
   "execution_count": null,
   "id": "f40c5f22",
   "metadata": {},
   "outputs": [],
   "source": [
    "# Two values replace one index value\n",
    "myList = [\"apple\", \"banana\", \"cherry\"]\n",
    "myList[1:2] = [\"blackcurrant\", \"watermelon\"]\n",
    "print(myList)"
   ]
  },
  {
   "cell_type": "code",
   "execution_count": null,
   "id": "b828dae0",
   "metadata": {},
   "outputs": [],
   "source": [
    "# One value replaces multiple indexes\n",
    "myList = [\"apple\", \"banana\", \"cherry\"]\n",
    "myList[1:3] = [\"watermelon\"]\n",
    "print(myList)"
   ]
  },
  {
   "cell_type": "markdown",
   "id": "5bffb3ce",
   "metadata": {},
   "source": [
    "## Insertar elementos"
   ]
  },
  {
   "cell_type": "code",
   "execution_count": null,
   "id": "c0dfb553",
   "metadata": {},
   "outputs": [],
   "source": [
    "myList = [\"apple\", \"banana\", \"cherry\"]\n",
    "myList.insert(2, \"watermelon\")\n",
    "print(myList)"
   ]
  },
  {
   "cell_type": "markdown",
   "id": "c775a942",
   "metadata": {},
   "source": [
    "# 9.4 Python - Agregar elementos a una lista"
   ]
  },
  {
   "cell_type": "markdown",
   "id": "03aede33",
   "metadata": {},
   "source": [
    "## Agregar elementos al final"
   ]
  },
  {
   "cell_type": "code",
   "execution_count": null,
   "id": "3eb4d87a",
   "metadata": {},
   "outputs": [],
   "source": [
    "myList = [\"apple\", \"banana\", \"cherry\"]\n",
    "myList.append(\"orange\")\n",
    "print(myList)"
   ]
  },
  {
   "cell_type": "markdown",
   "id": "6259d43e",
   "metadata": {},
   "source": [
    "## Insertar elementos"
   ]
  },
  {
   "cell_type": "code",
   "execution_count": null,
   "id": "501a3a6e",
   "metadata": {},
   "outputs": [],
   "source": [
    "myList = [\"apple\", \"banana\", \"cherry\"]\n",
    "myList.insert(1, \"orange\")\n",
    "print(myList)"
   ]
  },
  {
   "cell_type": "markdown",
   "id": "230ec2ba",
   "metadata": {},
   "source": [
    "## Extender una lista"
   ]
  },
  {
   "cell_type": "code",
   "execution_count": null,
   "id": "0f841387",
   "metadata": {},
   "outputs": [],
   "source": [
    "myList = [\"apple\", \"banana\", \"cherry\"]\n",
    "tropical = [\"mango\", \"pineapple\", \"papaya\"]\n",
    "myList.extend(tropical)\n",
    "print(myList)"
   ]
  },
  {
   "cell_type": "markdown",
   "id": "9feb4118",
   "metadata": {},
   "source": [
    "## Añadir a la lista cualquier iterable"
   ]
  },
  {
   "cell_type": "code",
   "execution_count": null,
   "id": "881f715e",
   "metadata": {},
   "outputs": [],
   "source": [
    "# Los objetos iterables son: otra lista, tuplas, sets, diccionarios\n",
    "myList = [\"apple\", \"banana\", \"cherry\"]\n",
    "myTuple = (\"kiwi\", \"orange\")\n",
    "myList.extend(myTuple)\n",
    "print(myList)"
   ]
  },
  {
   "cell_type": "markdown",
   "id": "9f8d73c5",
   "metadata": {},
   "source": [
    "# 9.5 Python - Remover elementos de una lista"
   ]
  },
  {
   "cell_type": "markdown",
   "id": "f8c02bb6",
   "metadata": {},
   "source": [
    "## Remover un elemento por su nombre"
   ]
  },
  {
   "cell_type": "code",
   "execution_count": null,
   "id": "bc3bcc3f",
   "metadata": {},
   "outputs": [],
   "source": [
    "myList = [\"apple\", \"banana\", \"cherry\"]\n",
    "myList.remove(\"banana\")\n",
    "print(myList)"
   ]
  },
  {
   "cell_type": "markdown",
   "id": "b65ea9ac",
   "metadata": {},
   "source": [
    "## Remover un elemento por su indice"
   ]
  },
  {
   "cell_type": "code",
   "execution_count": null,
   "id": "89035191",
   "metadata": {},
   "outputs": [],
   "source": [
    "myList = [\"apple\", \"banana\", \"cherry\"]\n",
    "myList.pop(1)\n",
    "print(myList)"
   ]
  },
  {
   "cell_type": "code",
   "execution_count": null,
   "id": "b473aee1",
   "metadata": {},
   "outputs": [],
   "source": [
    "myList = [\"apple\", \"banana\", \"cherry\"]\n",
    "del myList[0]\n",
    "print(myList)"
   ]
  },
  {
   "cell_type": "markdown",
   "id": "b4625dd4",
   "metadata": {},
   "source": [
    "## Remover el ultimo elemento"
   ]
  },
  {
   "cell_type": "code",
   "execution_count": null,
   "id": "f12e928d",
   "metadata": {},
   "outputs": [],
   "source": [
    "myList = [\"apple\", \"banana\", \"cherry\"]\n",
    "myList.pop()\n",
    "print(myList)"
   ]
  },
  {
   "cell_type": "markdown",
   "id": "f84023a7",
   "metadata": {},
   "source": [
    "## Eliminar toda la lista"
   ]
  },
  {
   "cell_type": "code",
   "execution_count": null,
   "id": "c0e8f712",
   "metadata": {},
   "outputs": [],
   "source": [
    "myList = [\"apple\", \"banana\", \"cherry\"]\n",
    "del myList\n",
    "#print(myList)"
   ]
  },
  {
   "cell_type": "markdown",
   "id": "6f16d61d",
   "metadata": {},
   "source": [
    "## Limpiar la lista"
   ]
  },
  {
   "cell_type": "code",
   "execution_count": null,
   "id": "1135a09e",
   "metadata": {},
   "outputs": [],
   "source": [
    "myList = [\"apple\", \"banana\", \"cherry\"]\n",
    "myList.clear()\n",
    "print(myList)"
   ]
  },
  {
   "cell_type": "markdown",
   "id": "f2d410e7",
   "metadata": {},
   "source": [
    "# 9.6 Ordenar una lista"
   ]
  },
  {
   "cell_type": "markdown",
   "id": "ed04e8fb",
   "metadata": {},
   "source": [
    "# Ordenar una lista de forma alfanumerica"
   ]
  },
  {
   "cell_type": "code",
   "execution_count": null,
   "id": "aeee55be",
   "metadata": {},
   "outputs": [],
   "source": [
    "# Alphabetically\n",
    "myList = [\"orange\", \"mango\", \"kiwi\", \"pineapple\", \"banana\"]\n",
    "myList.sort()\n",
    "print(myList)"
   ]
  },
  {
   "cell_type": "code",
   "execution_count": null,
   "id": "2e9bf46e",
   "metadata": {},
   "outputs": [],
   "source": [
    "# Numerically\n",
    "myList = [100, 50, 65, 82, 23]\n",
    "myList.sort()\n",
    "print(myList)"
   ]
  },
  {
   "cell_type": "code",
   "execution_count": null,
   "id": "2df3906e",
   "metadata": {},
   "outputs": [],
   "source": [
    "myList = [100, 50, \"mango\", \"kiwi\", \"pineapple\", 65, 82, 23]\n",
    "myList.sort()\n",
    "print(myList)"
   ]
  },
  {
   "cell_type": "markdown",
   "id": "e9434235",
   "metadata": {},
   "source": [
    "## Ordenar de forma descendente"
   ]
  },
  {
   "cell_type": "code",
   "execution_count": null,
   "id": "740abf6f",
   "metadata": {},
   "outputs": [],
   "source": [
    "# Alphabetically\n",
    "myList = [\"orange\", \"mango\", \"kiwi\", \"pineapple\", \"banana\"]\n",
    "myList.sort(reverse = True)\n",
    "print(myList)"
   ]
  },
  {
   "cell_type": "code",
   "execution_count": null,
   "id": "f752edd8",
   "metadata": {},
   "outputs": [],
   "source": [
    "# Numerically\n",
    "myList = [100, 50, 65, 82, 23]\n",
    "myList.sort(reverse = True)\n",
    "print(myList)"
   ]
  },
  {
   "cell_type": "markdown",
   "id": "9e7a20ff",
   "metadata": {},
   "source": [
    "## Ordenar una lista de strings (case in/sensitive)"
   ]
  },
  {
   "cell_type": "code",
   "execution_count": null,
   "id": "74ba471a",
   "metadata": {},
   "outputs": [],
   "source": [
    "# sort is case sensitive\n",
    "myList = [\"banana\", \"Orange\", \"Kiwi\", \"cherry\"]\n",
    "myList.sort()\n",
    "print(myList)"
   ]
  },
  {
   "cell_type": "code",
   "execution_count": null,
   "id": "7003a1ee",
   "metadata": {},
   "outputs": [],
   "source": [
    "# case insensitive\n",
    "myList = [\"banana\", \"Orange\", \"Kiwi\", \"cherry\"]\n",
    "myList.sort(key = str.lower)\n",
    "print(myList)"
   ]
  },
  {
   "cell_type": "markdown",
   "id": "74c9ca4a",
   "metadata": {},
   "source": [
    "## Voltear una lista"
   ]
  },
  {
   "cell_type": "code",
   "execution_count": null,
   "id": "38ea3114",
   "metadata": {},
   "outputs": [],
   "source": [
    "myList = [\"banana\", \"Orange\", \"Kiwi\", \"cherry\"]\n",
    "myList.reverse()\n",
    "print(myList)"
   ]
  },
  {
   "cell_type": "markdown",
   "id": "fd040934",
   "metadata": {},
   "source": [
    "# 9.7 Copiar una lista"
   ]
  },
  {
   "cell_type": "markdown",
   "id": "4f6bc035",
   "metadata": {},
   "source": [
    "## Usando el método copy"
   ]
  },
  {
   "cell_type": "code",
   "execution_count": null,
   "id": "d83ead7a",
   "metadata": {},
   "outputs": [],
   "source": [
    "thislist = [\"apple\", \"banana\", \"cherry\"]\n",
    "myList = thislist.copy()\n",
    "print(myList)"
   ]
  },
  {
   "cell_type": "markdown",
   "id": "3332a527",
   "metadata": {},
   "source": [
    "## Usando un casteo"
   ]
  },
  {
   "cell_type": "code",
   "execution_count": null,
   "id": "5f5ba248",
   "metadata": {},
   "outputs": [],
   "source": [
    "thislist = [\"apple\", \"banana\", \"cherry\"]\n",
    "myList = list(thislist)\n",
    "print(myList)"
   ]
  },
  {
   "cell_type": "markdown",
   "id": "1b27a459",
   "metadata": {},
   "source": [
    "## Solo asignando"
   ]
  },
  {
   "cell_type": "code",
   "execution_count": null,
   "id": "873344a8",
   "metadata": {},
   "outputs": [],
   "source": [
    "thislist = [\"apple\", \"banana\", \"cherry\"]\n",
    "myList = thislist\n",
    "print(myList)"
   ]
  },
  {
   "cell_type": "markdown",
   "id": "dc459e8e",
   "metadata": {},
   "source": [
    "# 9.8 Unir una lista"
   ]
  },
  {
   "cell_type": "markdown",
   "id": "ad2fae68",
   "metadata": {},
   "source": [
    "## Unir una lista con el operador +"
   ]
  },
  {
   "cell_type": "code",
   "execution_count": null,
   "id": "2ccf2b62",
   "metadata": {},
   "outputs": [],
   "source": [
    "list1 = [\"a\", \"b\", \"c\"]\n",
    "list2 = [1, 2, 3]\n",
    "\n",
    "list3 = list1 + list2\n",
    "print(list3)"
   ]
  },
  {
   "cell_type": "code",
   "execution_count": null,
   "id": "9c4b0a45",
   "metadata": {},
   "outputs": [],
   "source": [
    "list1 = [\"a\", \"b\", \"c\"]\n",
    "list2 = [1, 2, 3]\n",
    "\n",
    "list1 += list2\n",
    "print(list1)"
   ]
  },
  {
   "cell_type": "markdown",
   "id": "22cb0ef7",
   "metadata": {},
   "source": [
    "## Unir una lista con un for y un append"
   ]
  },
  {
   "cell_type": "code",
   "execution_count": null,
   "id": "0dfd62bf",
   "metadata": {},
   "outputs": [],
   "source": [
    "list1 = [\"a\", \"b\" , \"c\"]\n",
    "list2 = [1, 2, 3]\n",
    "\n",
    "for x in list2:\n",
    "  list1.append(x)\n",
    "\n",
    "print(list1)"
   ]
  },
  {
   "cell_type": "markdown",
   "id": "4bbf8a17",
   "metadata": {},
   "source": [
    "## Unir una lista con el método extend( )"
   ]
  },
  {
   "cell_type": "code",
   "execution_count": null,
   "id": "47eb8fca",
   "metadata": {},
   "outputs": [],
   "source": [
    "list1 = [\"a\", \"b\" , \"c\"]\n",
    "list2 = [1, 2, 3]\n",
    "\n",
    "list1.extend(list2)\n",
    "print(list1)"
   ]
  }
 ],
 "metadata": {
  "kernelspec": {
   "display_name": "Python 3",
   "language": "python",
   "name": "python3"
  },
  "language_info": {
   "codemirror_mode": {
    "name": "ipython",
    "version": 3
   },
   "file_extension": ".py",
   "mimetype": "text/x-python",
   "name": "python",
   "nbconvert_exporter": "python",
   "pygments_lexer": "ipython3",
   "version": "3.6.13"
  }
 },
 "nbformat": 4,
 "nbformat_minor": 5
}
