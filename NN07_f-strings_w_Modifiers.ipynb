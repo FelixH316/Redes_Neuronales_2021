{
 "cells": [
  {
   "cell_type": "markdown",
   "id": "235ce0fb",
   "metadata": {},
   "source": [
    "# f-strings & Modifiers"
   ]
  },
  {
   "cell_type": "code",
   "execution_count": 3,
   "id": "cfa19fab",
   "metadata": {},
   "outputs": [],
   "source": [
    "var_float = 0.00003\n",
    "var_int = 255  # 75"
   ]
  },
  {
   "cell_type": "code",
   "execution_count": 4,
   "id": "f0945917",
   "metadata": {},
   "outputs": [
    {
     "name": "stdout",
     "output_type": "stream",
     "text": [
      "Books: 00003\n",
      "Price: $12.375\n",
      "total: 00037.12\n",
      "\n",
      "Books:  +3\n",
      "Price: $12.3750\n",
      "total: 37.12500\n",
      "\n",
      "Variable con mod g: 3e-05\n",
      "Variable con mod G: 3E-05\n",
      "\n",
      "Variable con mod f: 0.000030\n",
      "Variable con mod F: 0.000030\n",
      "\n",
      "Variable con mod x: ff\n",
      "Variable con mod X: FF\n",
      "\n",
      "Variable con mod c: ÿ\n"
     ]
    }
   ],
   "source": [
    "print(f\"Books: {3:05d}\\nPrice: ${12.375:6.3f}\\ntotal: {3 * 12.375:08.2f}\")\n",
    "\n",
    "print(f\"\\nBooks: {3:+3d}\\nPrice: ${12.375:6.04f}\\ntotal: {3 * 12.375:08.5f}\")\n",
    "\n",
    "print(f\"\\nVariable con mod g: {var_float:g}\")\n",
    "print(f\"Variable con mod G: {var_float:G}\")\n",
    "\n",
    "print(f\"\\nVariable con mod f: {var_float:f}\")\n",
    "print(f\"Variable con mod F: {var_float:F}\")\n",
    "\n",
    "print(f\"\\nVariable con mod x: {var_int:x}\")\n",
    "print(f\"Variable con mod X: {var_int:X}\")\n",
    "\n",
    "print(f\"\\nVariable con mod c: {var_int:c}\")"
   ]
  }
 ],
 "metadata": {
  "kernelspec": {
   "display_name": "Python 3",
   "language": "python",
   "name": "python3"
  },
  "language_info": {
   "codemirror_mode": {
    "name": "ipython",
    "version": 3
   },
   "file_extension": ".py",
   "mimetype": "text/x-python",
   "name": "python",
   "nbconvert_exporter": "python",
   "pygments_lexer": "ipython3",
   "version": "3.6.13"
  }
 },
 "nbformat": 4,
 "nbformat_minor": 5
}
