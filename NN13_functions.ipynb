{
 "cells": [
  {
   "cell_type": "markdown",
   "id": "5ab3a6c6",
   "metadata": {},
   "source": [
    "# 13.0 Python: Functions"
   ]
  },
  {
   "cell_type": "markdown",
   "id": "e327f5f7",
   "metadata": {},
   "source": [
    "## Se declara un funcion con la palabra reservada def"
   ]
  },
  {
   "cell_type": "code",
   "execution_count": null,
   "id": "fc7c8f0b",
   "metadata": {},
   "outputs": [],
   "source": [
    "def my_function():\n",
    "  print(\"Hello from a function\")"
   ]
  },
  {
   "cell_type": "markdown",
   "id": "a3efc26a",
   "metadata": {},
   "source": [
    "## Llamar una funcion"
   ]
  },
  {
   "cell_type": "code",
   "execution_count": null,
   "id": "21edaabf",
   "metadata": {},
   "outputs": [],
   "source": [
    "def my_function():\n",
    "  print(\"Hello from a function\")\n",
    "\n",
    "my_function()"
   ]
  },
  {
   "cell_type": "markdown",
   "id": "fb9bccb2",
   "metadata": {},
   "source": [
    "## Argumentos"
   ]
  },
  {
   "cell_type": "code",
   "execution_count": 3,
   "id": "e3382de9",
   "metadata": {},
   "outputs": [
    {
     "name": "stdout",
     "output_type": "stream",
     "text": [
      "Emil Torvals\n",
      "Tobias Torvals\n",
      "Linus Torvals\n"
     ]
    }
   ],
   "source": [
    "def my_function(fname):\n",
    "  print(fname + \" Torvals\")\n",
    "\n",
    "my_function(\"Emil\")\n",
    "my_function(\"Tobias\")\n",
    "my_function(\"Linus\")"
   ]
  },
  {
   "cell_type": "markdown",
   "id": "026d81a8",
   "metadata": {},
   "source": [
    "## Parámetro o argumento"
   ]
  },
  {
   "cell_type": "code",
   "execution_count": null,
   "id": "fda3d955",
   "metadata": {},
   "outputs": [],
   "source": [
    "# Un parámetro es la variable que aparece entre paréntesis en la definición de la función.\n",
    "\n",
    "# Un argumento es el valor que se envía a la función cuando se llama."
   ]
  },
  {
   "cell_type": "markdown",
   "id": "4a05ee1c",
   "metadata": {},
   "source": [
    "## Múltiples parámetros"
   ]
  },
  {
   "cell_type": "code",
   "execution_count": null,
   "id": "7b178dab",
   "metadata": {},
   "outputs": [],
   "source": [
    "def my_function(fname, lname):\n",
    "  print(fname + \" \" + lname)\n",
    "\n",
    "my_function(\"Emil\", \"Refsnes\")"
   ]
  },
  {
   "cell_type": "code",
   "execution_count": null,
   "id": "8bde0d7c",
   "metadata": {},
   "outputs": [],
   "source": [
    "def my_function(fname, lname):\n",
    "  print(fname + \" \" + lname)\n",
    "\n",
    "my_function(\"Emil\")"
   ]
  },
  {
   "cell_type": "markdown",
   "id": "a725b1c2",
   "metadata": {},
   "source": [
    "## Número de parametros arbitrario"
   ]
  },
  {
   "cell_type": "code",
   "execution_count": null,
   "id": "37a30cc4",
   "metadata": {},
   "outputs": [],
   "source": [
    "def my_function(*kids):\n",
    "  print(\"The youngest child is \" + kids[2])\n",
    "\n",
    "my_function(\"Emil\", \"Tobias\", \"Linus\")"
   ]
  },
  {
   "cell_type": "markdown",
   "id": "9946faa7",
   "metadata": {},
   "source": [
    "## Llamada a funcion con argumentos organizados por keyword"
   ]
  },
  {
   "cell_type": "code",
   "execution_count": null,
   "id": "73979649",
   "metadata": {},
   "outputs": [],
   "source": [
    "def my_function(child3, child2, child1):\n",
    "  print(\"The youngest child is \" + child3)\n",
    "\n",
    "my_function(child1 = \"Emil\", child2 = \"Tobias\", child3 = \"Linus\")"
   ]
  },
  {
   "cell_type": "markdown",
   "id": "9b2768e7",
   "metadata": {},
   "source": [
    "## Numero de argumentos arbitrarios organizados por keyword"
   ]
  },
  {
   "cell_type": "code",
   "execution_count": null,
   "id": "1bcfd35b",
   "metadata": {},
   "outputs": [],
   "source": [
    "def my_function(**kid):\n",
    "  print(\"His last name is \" + kid[\"lname\"])\n",
    "\n",
    "my_function(fname = \"Tobias\", lname = \"Refsnes\")"
   ]
  },
  {
   "cell_type": "markdown",
   "id": "28454db3",
   "metadata": {},
   "source": [
    "## Valor por defecto de un parametro"
   ]
  },
  {
   "cell_type": "code",
   "execution_count": null,
   "id": "e0186dad",
   "metadata": {},
   "outputs": [],
   "source": [
    "def my_function(country = \"Norway\"):\n",
    "  print(\"I am from \" + country)\n",
    "\n",
    "my_function(\"Sweden\")\n",
    "my_function(\"India\")\n",
    "my_function()\n",
    "my_function(\"Brazil\")"
   ]
  },
  {
   "cell_type": "markdown",
   "id": "3e3d99a9",
   "metadata": {},
   "source": [
    "## Pasar una lista como parametro"
   ]
  },
  {
   "cell_type": "code",
   "execution_count": null,
   "id": "1bcf6216",
   "metadata": {},
   "outputs": [],
   "source": [
    "def my_function(food):\n",
    "  for x in food:\n",
    "    print(x)\n",
    "\n",
    "fruits = [\"apple\", \"banana\", \"cherry\"]\n",
    "\n",
    "my_function(fruits)"
   ]
  },
  {
   "cell_type": "markdown",
   "id": "3dcdc142",
   "metadata": {},
   "source": [
    "## Retornos de una función"
   ]
  },
  {
   "cell_type": "code",
   "execution_count": null,
   "id": "cac8aa69",
   "metadata": {},
   "outputs": [],
   "source": [
    "def my_function(x):\n",
    "  return 5 * x\n",
    "\n",
    "print(my_function(3))\n",
    "print(my_function(5))\n",
    "print(my_function(9))"
   ]
  },
  {
   "cell_type": "markdown",
   "id": "9b2632eb",
   "metadata": {},
   "source": [
    "## La palabra reservada pass en funciones"
   ]
  },
  {
   "cell_type": "code",
   "execution_count": null,
   "id": "0b3f6eea",
   "metadata": {},
   "outputs": [],
   "source": [
    "def myfunction():\n",
    "  pass              # Mala practica"
   ]
  },
  {
   "cell_type": "markdown",
   "id": "928c6e2a",
   "metadata": {},
   "source": [
    "## Recursión"
   ]
  },
  {
   "cell_type": "code",
   "execution_count": 2,
   "id": "d739b688",
   "metadata": {},
   "outputs": [
    {
     "name": "stdout",
     "output_type": "stream",
     "text": [
      "\n",
      "\n",
      "Recursion Example Results\n",
      "1\n",
      "3\n",
      "6\n",
      "10\n",
      "15\n",
      "21\n"
     ]
    },
    {
     "data": {
      "text/plain": [
       "21"
      ]
     },
     "execution_count": 2,
     "metadata": {},
     "output_type": "execute_result"
    }
   ],
   "source": [
    "def tri_recursion(k):\n",
    "  if(k > 0):\n",
    "    result = k + tri_recursion(k - 1)\n",
    "    print(result)\n",
    "  else:\n",
    "    result = 0\n",
    "  return result\n",
    "\n",
    "print(\"\\n\\nRecursion Example Results\")\n",
    "tri_recursion(6)"
   ]
  }
 ],
 "metadata": {
  "kernelspec": {
   "display_name": "Python 3",
   "language": "python",
   "name": "python3"
  },
  "language_info": {
   "codemirror_mode": {
    "name": "ipython",
    "version": 3
   },
   "file_extension": ".py",
   "mimetype": "text/x-python",
   "name": "python",
   "nbconvert_exporter": "python",
   "pygments_lexer": "ipython3",
   "version": "3.6.13"
  }
 },
 "nbformat": 4,
 "nbformat_minor": 5
}
