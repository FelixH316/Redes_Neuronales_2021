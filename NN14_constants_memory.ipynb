{
 "cells": [
  {
   "cell_type": "markdown",
   "id": "cbda299b",
   "metadata": {},
   "source": [
    "# Constantes"
   ]
  },
  {
   "cell_type": "code",
   "execution_count": null,
   "id": "c6f5e472",
   "metadata": {},
   "outputs": [],
   "source": [
    "# INCORRECTO, USANDO VARIABLES\n",
    "ADDRESS = \"192.168.27\"\n",
    "print(ADDRESS)\n",
    "print(ADDRESS[0])\n",
    "print(type(ADDRESS))\n",
    "\n",
    "ADDRESS[0] = \"255.255.255\""
   ]
  },
  {
   "cell_type": "code",
   "execution_count": null,
   "id": "44a1b284",
   "metadata": {},
   "outputs": [],
   "source": [
    "# CORRECTO, USANDO ...\n",
    "ADDRESS = \"192.168.27\",\n",
    "print(ADDRESS)\n",
    "print(ADDRESS[0])\n",
    "print(type(ADDRESS))\n",
    "\n",
    "ADDRESS[0] = \"255.255.255\""
   ]
  },
  {
   "cell_type": "code",
   "execution_count": null,
   "id": "5080c7e3",
   "metadata": {},
   "outputs": [],
   "source": [
    "# USANDO LA CONSTANTE\n",
    "ADDRESS = \"192.168.27\"\n",
    "print(ADDRESS)\n",
    "print(ADDRESS[0])\n",
    "print(type(ADDRESS[0]))\n",
    "print(type(ADDRESS))"
   ]
  },
  {
   "cell_type": "markdown",
   "id": "1c7a3927",
   "metadata": {},
   "source": [
    "# Objetos en Memoria"
   ]
  },
  {
   "cell_type": "markdown",
   "id": "dfc555f9",
   "metadata": {},
   "source": [
    "## Objetos indiviaduales"
   ]
  },
  {
   "cell_type": "code",
   "execution_count": null,
   "id": "92bc41c4",
   "metadata": {},
   "outputs": [],
   "source": [
    "# No hay problema - Diferente id\n",
    "a = 850\n",
    "b = a\n",
    "\n",
    "a = 200\n",
    "\n",
    "print(f\"a = {a}, id = {id(a)}\")\n",
    "print(f\"b = {b}, id = {id(b)}\")"
   ]
  },
  {
   "cell_type": "markdown",
   "id": "c017db0b",
   "metadata": {},
   "source": [
    "## Objetos de secuencias"
   ]
  },
  {
   "cell_type": "code",
   "execution_count": null,
   "id": "53d0e214",
   "metadata": {},
   "outputs": [],
   "source": [
    "# Incorrecto - Mismo id en secuencias\n",
    "l1 = [1, 2, 3]\n",
    "l2 = l1\n",
    "\n",
    "l1[0] = \"A\"\n",
    "\n",
    "print(f\"l1 = {l1}, id = {id(l1)}\")\n",
    "print(f\"l2 = {l2}, id = {id(l2)}\")"
   ]
  },
  {
   "cell_type": "code",
   "execution_count": null,
   "id": "6944a4ea",
   "metadata": {},
   "outputs": [],
   "source": [
    "# Correcto - Diferente id en secuencias\n",
    "l1 = [1, 2, 3]\n",
    "l2 = l1.copy()\n",
    "l3 = list(l1)\n",
    "l4 = l1[:]\n",
    "\n",
    "l1[0] = \"A\"\n",
    "\n",
    "print(f\"l1 = {l1}, id = {id(l1)}\")\n",
    "print(f\"l2 = {l2}, id = {id(l2)}\")\n",
    "print(f\"l3 = {l3}, id = {id(l3)}\")\n",
    "print(f\"l4 = {l4}, id = {id(l4)}\")"
   ]
  }
 ],
 "metadata": {
  "kernelspec": {
   "display_name": "Python 3",
   "language": "python",
   "name": "python3"
  },
  "language_info": {
   "codemirror_mode": {
    "name": "ipython",
    "version": 3
   },
   "file_extension": ".py",
   "mimetype": "text/x-python",
   "name": "python",
   "nbconvert_exporter": "python",
   "pygments_lexer": "ipython3",
   "version": "3.6.13"
  }
 },
 "nbformat": 4,
 "nbformat_minor": 5
}
