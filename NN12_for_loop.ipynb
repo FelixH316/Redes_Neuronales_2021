{
 "cells": [
  {
   "cell_type": "markdown",
   "id": "a6933b3d",
   "metadata": {},
   "source": [
    "# 12.0 Python: For Loops"
   ]
  },
  {
   "cell_type": "markdown",
   "id": "7e1d9a74",
   "metadata": {},
   "source": [
    "## Ciclo for a traves de listas"
   ]
  },
  {
   "cell_type": "code",
   "execution_count": null,
   "id": "2c8f1cad",
   "metadata": {},
   "outputs": [],
   "source": [
    "fruits = [\"apple\", \"banana\", \"cherry\"]\n",
    "for x in fruits:   # Through list, tuples, dictionaries, sets or strings\n",
    "  print(x)"
   ]
  },
  {
   "cell_type": "markdown",
   "id": "5b8d55a4",
   "metadata": {},
   "source": [
    "## Ciclo for a traves de strings"
   ]
  },
  {
   "cell_type": "code",
   "execution_count": 5,
   "id": "efbfa21f",
   "metadata": {},
   "outputs": [
    {
     "name": "stdout",
     "output_type": "stream",
     "text": [
      "b\n",
      "a\n",
      "n\n",
      "a\n",
      "n\n",
      "a\n"
     ]
    }
   ],
   "source": [
    "for x in \"banana\":\n",
    "  print(x)"
   ]
  },
  {
   "cell_type": "markdown",
   "id": "b61cc0a3",
   "metadata": {},
   "source": [
    "## La palabra reservada break en ciclos for"
   ]
  },
  {
   "cell_type": "code",
   "execution_count": null,
   "id": "72b94c81",
   "metadata": {},
   "outputs": [],
   "source": [
    "fruits = [\"apple\", \"banana\", \"cherry\"]\n",
    "for x in fruits:\n",
    "  print(x)\n",
    "  if x == \"banana\":\n",
    "    break"
   ]
  },
  {
   "cell_type": "code",
   "execution_count": null,
   "id": "7e25f9eb",
   "metadata": {},
   "outputs": [],
   "source": [
    "fruits = [\"apple\", \"banana\", \"cherry\"]\n",
    "for x in fruits:\n",
    "  if x == \"banana\":\n",
    "    break\n",
    "  print(x)"
   ]
  },
  {
   "cell_type": "markdown",
   "id": "bcf46cc8",
   "metadata": {},
   "source": [
    "## La palabra reservada continue en ciclos for"
   ]
  },
  {
   "cell_type": "code",
   "execution_count": null,
   "id": "fd68f2c0",
   "metadata": {},
   "outputs": [],
   "source": [
    "fruits = [\"apple\", \"banana\", \"cherry\"]\n",
    "for x in fruits:\n",
    "  if x == \"banana\":\n",
    "    continue\n",
    "  print(x)"
   ]
  },
  {
   "cell_type": "markdown",
   "id": "794ea4c6",
   "metadata": {},
   "source": [
    "# 12.1 La funcion estandar range() en ciclos for"
   ]
  },
  {
   "cell_type": "markdown",
   "id": "0fae0b5e",
   "metadata": {},
   "source": [
    "## range() retorna una secuencia de numeros"
   ]
  },
  {
   "cell_type": "code",
   "execution_count": 6,
   "id": "2a920b21",
   "metadata": {},
   "outputs": [
    {
     "name": "stdout",
     "output_type": "stream",
     "text": [
      "0\n",
      "1\n",
      "2\n",
      "3\n",
      "4\n",
      "5\n"
     ]
    }
   ],
   "source": [
    "# por defecto empieza de 0 y tiene incrementos de 1\n",
    "for x in range(6):\n",
    "  print(x)"
   ]
  },
  {
   "cell_type": "markdown",
   "id": "14e04362",
   "metadata": {},
   "source": [
    "## Especificar el inicio de range()"
   ]
  },
  {
   "cell_type": "code",
   "execution_count": null,
   "id": "1f88107b",
   "metadata": {},
   "outputs": [],
   "source": [
    "for x in range(2, 6):\n",
    "  print(x)"
   ]
  },
  {
   "cell_type": "markdown",
   "id": "77d402ed",
   "metadata": {},
   "source": [
    "## Especificar el incremento de range()"
   ]
  },
  {
   "cell_type": "code",
   "execution_count": null,
   "id": "8b8d22c3",
   "metadata": {},
   "outputs": [],
   "source": [
    "for x in range(2, 30, 3):\n",
    "  print(x)"
   ]
  },
  {
   "cell_type": "markdown",
   "id": "0cc62b1d",
   "metadata": {},
   "source": [
    "# 12.2 Ciclos anidados"
   ]
  },
  {
   "cell_type": "code",
   "execution_count": 7,
   "id": "e3556a22",
   "metadata": {},
   "outputs": [
    {
     "name": "stdout",
     "output_type": "stream",
     "text": [
      "red apple\n",
      "red banana\n",
      "red cherry\n",
      "big apple\n",
      "big banana\n",
      "big cherry\n",
      "tasty apple\n",
      "tasty banana\n",
      "tasty cherry\n"
     ]
    }
   ],
   "source": [
    "adj = [\"red\", \"big\", \"tasty\"]\n",
    "fruits = [\"apple\", \"banana\", \"cherry\"]\n",
    "\n",
    "for x in adj:\n",
    "  for y in fruits:\n",
    "    print(x, y)"
   ]
  },
  {
   "cell_type": "markdown",
   "id": "daf81a0d",
   "metadata": {},
   "source": [
    "# 12.3 Otras palabras reservadas para ciclos for"
   ]
  },
  {
   "cell_type": "markdown",
   "id": "d9e42760",
   "metadata": {},
   "source": [
    "## La palabra reservada else un ciclos for"
   ]
  },
  {
   "cell_type": "code",
   "execution_count": null,
   "id": "289fc320",
   "metadata": {},
   "outputs": [],
   "source": [
    "for x in range(6):\n",
    "  print(x)\n",
    "else:\n",
    "  print(\"Finally finished!\")"
   ]
  },
  {
   "cell_type": "code",
   "execution_count": null,
   "id": "2fbd28d9",
   "metadata": {},
   "outputs": [],
   "source": [
    "for x in range(6):\n",
    "  if x == 3: break\n",
    "  print(x)\n",
    "else:\n",
    "  print(\"Finally finished!\")"
   ]
  },
  {
   "cell_type": "markdown",
   "id": "adf5fa44",
   "metadata": {},
   "source": [
    "# La palabra reservada pass en ciclos for"
   ]
  },
  {
   "cell_type": "code",
   "execution_count": null,
   "id": "dd6e4763",
   "metadata": {},
   "outputs": [],
   "source": [
    "for x in [0, 1, 2]:\n",
    "  pass"
   ]
  }
 ],
 "metadata": {
  "kernelspec": {
   "display_name": "Python 3",
   "language": "python",
   "name": "python3"
  },
  "language_info": {
   "codemirror_mode": {
    "name": "ipython",
    "version": 3
   },
   "file_extension": ".py",
   "mimetype": "text/x-python",
   "name": "python",
   "nbconvert_exporter": "python",
   "pygments_lexer": "ipython3",
   "version": "3.6.13"
  }
 },
 "nbformat": 4,
 "nbformat_minor": 5
}
