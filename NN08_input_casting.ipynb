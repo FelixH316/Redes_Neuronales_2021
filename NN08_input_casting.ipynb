{
 "cells": [
  {
   "cell_type": "markdown",
   "id": "8f049cec",
   "metadata": {},
   "source": [
    "# Input Casting"
   ]
  },
  {
   "cell_type": "code",
   "execution_count": 1,
   "id": "c51c9e33",
   "metadata": {},
   "outputs": [
    {
     "name": "stdout",
     "output_type": "stream",
     "text": [
      "Introduce un número entero: 67\n",
      "67\n",
      "<class 'int'>\n",
      "Introduce un número flotante: 84\n",
      "84.0\n",
      "<class 'float'>\n"
     ]
    }
   ],
   "source": [
    "# Correct\n",
    "int_var = int(input(\"Introduce un número entero: \"))\n",
    "print(int_var)\n",
    "print(type(int_var))\n",
    "\n",
    "float_var = float(input(\"Introduce un número flotante: \"))\n",
    "print(float_var)\n",
    "print(type(float_var))"
   ]
  },
  {
   "cell_type": "code",
   "execution_count": 4,
   "id": "eb8cd5d4",
   "metadata": {},
   "outputs": [
    {
     "name": "stdout",
     "output_type": "stream",
     "text": [
      "Introduce un número entero: 89\n",
      "89\n",
      "<class 'str'>\n",
      "89\n",
      "<class 'int'>\n",
      "\n",
      "\n",
      "Introduce un número flotante: 495.9732\n",
      "495.9732\n",
      "<class 'str'>\n",
      "495.9732\n",
      "<class 'float'>\n"
     ]
    }
   ],
   "source": [
    "# Keep the string\n",
    "str_var = input(\"Introduce un número entero: \")\n",
    "int_var = int(str_var)\n",
    "print(str_var)\n",
    "print(type(str_var))\n",
    "print(int_var)\n",
    "print(type(int_var))\n",
    "\n",
    "print(\"\\n\")\n",
    "str_var = input(\"Introduce un número flotante: \")\n",
    "float_var = float(str_var)\n",
    "print(str_var)\n",
    "print(type(str_var))\n",
    "print(float_var)\n",
    "print(type(float_var))"
   ]
  },
  {
   "cell_type": "code",
   "execution_count": 2,
   "id": "fd06d882",
   "metadata": {},
   "outputs": [
    {
     "name": "stdout",
     "output_type": "stream",
     "text": [
      "Introduce un número flotante: 384.9338\n"
     ]
    },
    {
     "ename": "ValueError",
     "evalue": "invalid literal for int() with base 10: '384.9338'",
     "output_type": "error",
     "traceback": [
      "\u001b[0;31m---------------------------------------------------------------------------\u001b[0m",
      "\u001b[0;31mValueError\u001b[0m                                Traceback (most recent call last)",
      "\u001b[0;32m<ipython-input-2-7f03c054a799>\u001b[0m in \u001b[0;36m<module>\u001b[0;34m\u001b[0m\n\u001b[1;32m      1\u001b[0m \u001b[0;31m# Error de tipo de dato\u001b[0m\u001b[0;34m\u001b[0m\u001b[0;34m\u001b[0m\u001b[0;34m\u001b[0m\u001b[0m\n\u001b[0;32m----> 2\u001b[0;31m \u001b[0mfloat_var\u001b[0m \u001b[0;34m=\u001b[0m \u001b[0mint\u001b[0m\u001b[0;34m(\u001b[0m\u001b[0minput\u001b[0m\u001b[0;34m(\u001b[0m\u001b[0;34m\"Introduce un número flotante: \"\u001b[0m\u001b[0;34m)\u001b[0m\u001b[0;34m)\u001b[0m\u001b[0;34m\u001b[0m\u001b[0;34m\u001b[0m\u001b[0m\n\u001b[0m\u001b[1;32m      3\u001b[0m \u001b[0mprint\u001b[0m\u001b[0;34m(\u001b[0m\u001b[0mfloat_var\u001b[0m\u001b[0;34m)\u001b[0m\u001b[0;34m\u001b[0m\u001b[0;34m\u001b[0m\u001b[0m\n\u001b[1;32m      4\u001b[0m \u001b[0mprint\u001b[0m\u001b[0;34m(\u001b[0m\u001b[0mtype\u001b[0m\u001b[0;34m(\u001b[0m\u001b[0mfloat_var\u001b[0m\u001b[0;34m)\u001b[0m\u001b[0;34m)\u001b[0m\u001b[0;34m\u001b[0m\u001b[0;34m\u001b[0m\u001b[0m\n",
      "\u001b[0;31mValueError\u001b[0m: invalid literal for int() with base 10: '384.9338'"
     ]
    }
   ],
   "source": [
    "# Error\n",
    "float_var = int(input(\"Introduce un número flotante: \"))\n",
    "print(float_var)\n",
    "print(type(float_var))"
   ]
  }
 ],
 "metadata": {
  "kernelspec": {
   "display_name": "Python 3",
   "language": "python",
   "name": "python3"
  },
  "language_info": {
   "codemirror_mode": {
    "name": "ipython",
    "version": 3
   },
   "file_extension": ".py",
   "mimetype": "text/x-python",
   "name": "python",
   "nbconvert_exporter": "python",
   "pygments_lexer": "ipython3",
   "version": "3.6.13"
  }
 },
 "nbformat": 4,
 "nbformat_minor": 5
}
