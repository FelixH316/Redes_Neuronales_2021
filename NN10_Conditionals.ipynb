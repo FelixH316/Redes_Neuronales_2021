{
 "cells": [
  {
   "cell_type": "markdown",
   "id": "ab23ff5a",
   "metadata": {},
   "source": [
    "# 10.1 Sentencias Condicionales Básicas"
   ]
  },
  {
   "cell_type": "markdown",
   "id": "c3a97a1e",
   "metadata": {},
   "source": [
    "## Evaluaciones if"
   ]
  },
  {
   "cell_type": "code",
   "execution_count": null,
   "id": "d7593874",
   "metadata": {},
   "outputs": [],
   "source": [
    "a = 33\n",
    "b = 200\n",
    "if b > a:\n",
    "  print(\"b es mayor que a\")"
   ]
  },
  {
   "cell_type": "markdown",
   "id": "edec4990",
   "metadata": {},
   "source": [
    "## Indentation"
   ]
  },
  {
   "cell_type": "code",
   "execution_count": null,
   "id": "d5d887b3",
   "metadata": {},
   "outputs": [],
   "source": [
    "a = 33\n",
    "b = 200\n",
    "if b > a:\n",
    "print(\"b es mayor que a\") # you will get an error"
   ]
  },
  {
   "cell_type": "markdown",
   "id": "cc4f8674",
   "metadata": {},
   "source": [
    "## Evaluaciones elif"
   ]
  },
  {
   "cell_type": "code",
   "execution_count": null,
   "id": "7f19d13a",
   "metadata": {},
   "outputs": [],
   "source": [
    "a = 33\n",
    "b = 33\n",
    "if b > a:\n",
    "  print(\"b es mayor que a\")\n",
    "elif a == b:\n",
    "  print(\"a y b son iguales\")"
   ]
  },
  {
   "cell_type": "markdown",
   "id": "d4cd0da6",
   "metadata": {},
   "source": [
    "## Else"
   ]
  },
  {
   "cell_type": "code",
   "execution_count": null,
   "id": "7d187284",
   "metadata": {},
   "outputs": [],
   "source": [
    "a = 200\n",
    "b = 33\n",
    "if b > a:\n",
    "  print(\"b es mayor que a\")\n",
    "elif a == b:\n",
    "  print(\"a y b son iguales\")\n",
    "else:\n",
    "  print(\"a es mayor que b\")"
   ]
  },
  {
   "cell_type": "markdown",
   "id": "d030e18e",
   "metadata": {},
   "source": [
    "## Solo if ... else"
   ]
  },
  {
   "cell_type": "code",
   "execution_count": null,
   "id": "6907ffe0",
   "metadata": {},
   "outputs": [],
   "source": [
    "a = 200\n",
    "b = 33\n",
    "if b > a:\n",
    "  print(\"b es mayor que a\")\n",
    "else:\n",
    "  print(\"b no es mayor que a\")"
   ]
  },
  {
   "cell_type": "markdown",
   "id": "6ef8360a",
   "metadata": {},
   "source": [
    "## if de una sola linea"
   ]
  },
  {
   "cell_type": "code",
   "execution_count": null,
   "id": "36420aac",
   "metadata": {},
   "outputs": [],
   "source": [
    "if a > b: print(\"a es mayor que b\")"
   ]
  },
  {
   "cell_type": "markdown",
   "id": "42b4f9cb",
   "metadata": {},
   "source": [
    "## if ... else de una sola línea"
   ]
  },
  {
   "cell_type": "code",
   "execution_count": null,
   "id": "7b436712",
   "metadata": {},
   "outputs": [],
   "source": [
    "a = 2\n",
    "b = 330\n",
    "print(\"A\") if a > b else print(\"B\")"
   ]
  },
  {
   "cell_type": "markdown",
   "id": "0ce0c401",
   "metadata": {},
   "source": [
    "# 10.2 Operadores lógicos (palabras reservadas)"
   ]
  },
  {
   "cell_type": "markdown",
   "id": "34299916",
   "metadata": {},
   "source": [
    "## AND - Todo se debe cumplir"
   ]
  },
  {
   "cell_type": "code",
   "execution_count": null,
   "id": "a007acc9",
   "metadata": {},
   "outputs": [],
   "source": [
    "a = 200\n",
    "b = 33\n",
    "c = 500\n",
    "if a > b and c > a:\n",
    "  print(\"Ambas condiciones son True\")"
   ]
  },
  {
   "cell_type": "markdown",
   "id": "1f9f7398",
   "metadata": {},
   "source": [
    "## OR - Basta que una condicion sea True"
   ]
  },
  {
   "cell_type": "code",
   "execution_count": null,
   "id": "d93b4698",
   "metadata": {},
   "outputs": [],
   "source": [
    "a = 200\n",
    "b = 33\n",
    "c = 500\n",
    "if a > b or a > c:\n",
    "  print(\"Al menos una condicion retorno True\")"
   ]
  },
  {
   "cell_type": "markdown",
   "id": "dde05f72",
   "metadata": {},
   "source": [
    "# 10.3 if anidados"
   ]
  },
  {
   "cell_type": "code",
   "execution_count": null,
   "id": "ac93b050",
   "metadata": {},
   "outputs": [],
   "source": [
    "x = 41\n",
    "\n",
    "if x > 10:\n",
    "  print(\"Arriba de 10,\")\n",
    "  if x > 20:\n",
    "    print(\"y tambien arriba de 20!\")\n",
    "  else:\n",
    "    print(\"pero no mayor a 20.\")"
   ]
  },
  {
   "cell_type": "markdown",
   "id": "3977620f",
   "metadata": {},
   "source": [
    "# 10.4 La palabra reservada pass"
   ]
  },
  {
   "cell_type": "code",
   "execution_count": null,
   "id": "fe56f424",
   "metadata": {},
   "outputs": [],
   "source": [
    "a = 33\n",
    "b = 200\n",
    "\n",
    "if b > a:\n",
    "  pass     # Mala practica"
   ]
  }
 ],
 "metadata": {
  "kernelspec": {
   "display_name": "Python 3",
   "language": "python",
   "name": "python3"
  },
  "language_info": {
   "codemirror_mode": {
    "name": "ipython",
    "version": 3
   },
   "file_extension": ".py",
   "mimetype": "text/x-python",
   "name": "python",
   "nbconvert_exporter": "python",
   "pygments_lexer": "ipython3",
   "version": "3.6.13"
  }
 },
 "nbformat": 4,
 "nbformat_minor": 5
}
