{
 "cells": [
  {
   "cell_type": "markdown",
   "id": "0b5153c1",
   "metadata": {},
   "source": [
    "# Python: While Loops"
   ]
  },
  {
   "cell_type": "code",
   "execution_count": null,
   "id": "5a751005",
   "metadata": {},
   "outputs": [],
   "source": [
    "# Ejecuta el codigo que tenga dentro mientras la condicion sea True\n",
    "i = 1\n",
    "while i < 6:\n",
    "  print(i)\n",
    "  i += 1"
   ]
  },
  {
   "cell_type": "markdown",
   "id": "49fa5cc7",
   "metadata": {},
   "source": [
    "## La palabra reservada break"
   ]
  },
  {
   "cell_type": "code",
   "execution_count": null,
   "id": "e6d8d099",
   "metadata": {},
   "outputs": [],
   "source": [
    "i = 1\n",
    "while i < 6:\n",
    "  print(i)\n",
    "  if i == 3:\n",
    "    break\n",
    "  i += 1"
   ]
  },
  {
   "cell_type": "markdown",
   "id": "ff6ee124",
   "metadata": {},
   "source": [
    "## La palabra reservada continue"
   ]
  },
  {
   "cell_type": "code",
   "execution_count": 1,
   "id": "57a1129a",
   "metadata": {},
   "outputs": [
    {
     "name": "stdout",
     "output_type": "stream",
     "text": [
      "1\n",
      "2\n",
      "4\n",
      "5\n",
      "6\n"
     ]
    }
   ],
   "source": [
    "i = 0\n",
    "while i < 6:\n",
    "  i += 1\n",
    "  if i == 3:\n",
    "    continue\n",
    "  print(i)"
   ]
  },
  {
   "cell_type": "markdown",
   "id": "b2fe061f",
   "metadata": {},
   "source": [
    "## La palabra reservada else en ciclos while"
   ]
  },
  {
   "cell_type": "code",
   "execution_count": 2,
   "id": "27d4f826",
   "metadata": {},
   "outputs": [
    {
     "name": "stdout",
     "output_type": "stream",
     "text": [
      "1\n",
      "2\n",
      "3\n",
      "4\n",
      "5\n",
      "i ya no es menor que 6\n"
     ]
    }
   ],
   "source": [
    "i = 1\n",
    "while i < 6:\n",
    "  print(i)\n",
    "  i += 1\n",
    "else:\n",
    "  print(\"i ya no es menor que 6\")"
   ]
  },
  {
   "cell_type": "code",
   "execution_count": null,
   "id": "11682735",
   "metadata": {},
   "outputs": [],
   "source": []
  }
 ],
 "metadata": {
  "kernelspec": {
   "display_name": "Python 3",
   "language": "python",
   "name": "python3"
  },
  "language_info": {
   "codemirror_mode": {
    "name": "ipython",
    "version": 3
   },
   "file_extension": ".py",
   "mimetype": "text/x-python",
   "name": "python",
   "nbconvert_exporter": "python",
   "pygments_lexer": "ipython3",
   "version": "3.6.13"
  }
 },
 "nbformat": 4,
 "nbformat_minor": 5
}
